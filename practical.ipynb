{
  "nbformat": 4,
  "nbformat_minor": 0,
  "metadata": {
    "colab": {
      "provenance": []
    },
    "kernelspec": {
      "name": "python3",
      "display_name": "Python 3"
    },
    "language_info": {
      "name": "python"
    }
  },
  "cells": [
    {
      "cell_type": "code",
      "source": [
        "# Manual implementation to sort list of dictionaries\n",
        "def sort_dicts_by_key(data, sort_key):\n",
        "    return sorted(data, key=lambda x: x[sort_key])\n",
        "\n",
        "sample_data = [\n",
        "    {'name': 'Alice', 'age': 25},\n",
        "    {'name': 'Bob', 'age': 22},\n",
        "    {'name': 'Charlie', 'age': 30}\n",
        "]\n",
        "\n",
        "sorted_data = sort_dicts_by_key(sample_data, 'age')\n",
        "print(\"Manual:\", sorted_data)\n",
        "\n",
        "# Copilot/AI-generated version (example)\n",
        "def sort_dicts_by_key_v2(data, key):\n",
        "    data.sort(key=lambda d: d[key])\n",
        "    return data\n",
        "\n",
        "sorted_data_v2 = sort_dicts_by_key_v2(sample_data.copy(), 'age')\n",
        "print(\"Copilot:\", sorted_data_v2)\n"
      ],
      "metadata": {
        "colab": {
          "base_uri": "https://localhost:8080/"
        },
        "id": "6pjg1TgCx45-",
        "outputId": "8beae05e-e487-44dc-e890-2f9192a92f3b"
      },
      "execution_count": 2,
      "outputs": [
        {
          "output_type": "stream",
          "name": "stdout",
          "text": [
            "Manual: [{'name': 'Bob', 'age': 22}, {'name': 'Alice', 'age': 25}, {'name': 'Charlie', 'age': 30}]\n",
            "Copilot: [{'name': 'Bob', 'age': 22}, {'name': 'Alice', 'age': 25}, {'name': 'Charlie', 'age': 30}]\n"
          ]
        }
      ]
    },
    {
      "cell_type": "code",
      "source": [
        "# Simulating a basic login logic (Replace with real Selenium tests if possible)\n",
        "def login(username, password):\n",
        "    correct_username = \"admin\"\n",
        "    correct_password = \"12345\"\n",
        "    return username == correct_username and password == correct_password\n",
        "\n",
        "# Test cases\n",
        "print(\"Test 1 (valid):\", login(\"admin\", \"12345\"))\n",
        "print(\"Test 2 (invalid):\", login(\"wrong\", \"pass\"))\n"
      ],
      "metadata": {
        "colab": {
          "base_uri": "https://localhost:8080/"
        },
        "id": "FeHlQsFEyDEC",
        "outputId": "9038ab7a-e94b-4b86-ce0a-9fa4a201a220"
      },
      "execution_count": 3,
      "outputs": [
        {
          "output_type": "stream",
          "name": "stdout",
          "text": [
            "Test 1 (valid): True\n",
            "Test 2 (invalid): False\n"
          ]
        }
      ]
    },
    {
      "cell_type": "code",
      "source": [
        "import pandas as pd\n",
        "from sklearn.model_selection import train_test_split\n",
        "from sklearn.ensemble import RandomForestClassifier\n",
        "from sklearn.metrics import accuracy_score, f1_score\n",
        "\n",
        "# Load dataset\n",
        "from sklearn.datasets import load_breast_cancer\n",
        "data = load_breast_cancer()\n",
        "df = pd.DataFrame(data.data, columns=data.feature_names)\n",
        "df['target'] = data.target\n",
        "\n",
        "# Split data\n",
        "X = df.drop('target', axis=1)\n",
        "y = df['target']\n",
        "X_train, X_test, y_train, y_test = train_test_split(X, y, test_size=0.2, random_state=42)\n",
        "\n",
        "# Train model\n",
        "model = RandomForestClassifier()\n",
        "model.fit(X_train, y_train)\n",
        "\n",
        "# Predict\n",
        "predictions = model.predict(X_test)\n",
        "\n",
        "# Evaluate\n",
        "accuracy = accuracy_score(y_test, predictions)\n",
        "f1 = f1_score(y_test, predictions)\n",
        "\n",
        "print(\"Accuracy:\", accuracy)\n",
        "print(\"F1 Score:\", f1)\n"
      ],
      "metadata": {
        "colab": {
          "base_uri": "https://localhost:8080/"
        },
        "id": "I7drYE5vyQvv",
        "outputId": "c901c399-1a47-4a12-9567-e24709f20638"
      },
      "execution_count": 4,
      "outputs": [
        {
          "output_type": "stream",
          "name": "stdout",
          "text": [
            "Accuracy: 0.9649122807017544\n",
            "F1 Score: 0.9722222222222222\n"
          ]
        }
      ]
    },
    {
      "cell_type": "code",
      "source": [],
      "metadata": {
        "id": "59Xu3zVyyXzc"
      },
      "execution_count": null,
      "outputs": []
    }
  ]
}